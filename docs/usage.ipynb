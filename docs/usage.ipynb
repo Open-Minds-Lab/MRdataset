{
 "cells": [
  {
   "cell_type": "markdown",
   "metadata": {},
   "source": [
    "Jupyter Notebooks can sometime hard to work with. Some magic methods will be really handy when things don't seem to work out. The following cell reloads all changed modules."
   ]
  },
  {
   "cell_type": "code",
   "execution_count": 1,
   "metadata": {
    "ExecuteTime": {
     "end_time": "2023-10-12T19:27:35.457563756Z",
     "start_time": "2023-10-12T19:27:35.457254602Z"
    }
   },
   "outputs": [],
   "source": [
    "import tempfile\n",
    "%load_ext autoreload\n",
    "%autoreload 2"
   ]
  },
  {
   "cell_type": "markdown",
   "metadata": {},
   "source": [
    "# Table of Contents\n",
    "1. [Installation](#installation)\n",
    "2. [Motivation](#motivation)\n",
    "3. [Importing a dataset](#importing)\n",
    "4. [Attributes](#attributes)\n",
    "5. [Accessing Samples](#accessing)\n",
    "6. [Iteration over samples](#iteration)\n",
    "7. [Subset selection](#subset)\n",
    "8. [Saving/Loading a dataset](#saving)\n",
    "9. [Combining datasets](#merging)"
   ]
  },
  {
   "cell_type": "markdown",
   "metadata": {},
   "source": [
    "## Installation<a name=\"installation\"></a>"
   ]
  },
  {
   "cell_type": "code",
   "execution_count": 2,
   "metadata": {
    "ExecuteTime": {
     "end_time": "2023-10-12T19:27:36.817144666Z",
     "start_time": "2023-10-12T19:27:36.563384784Z"
    }
   },
   "outputs": [],
   "source": [
    "# !pip install MRdataset"
   ]
  },
  {
   "cell_type": "code",
   "execution_count": 1,
   "metadata": {
    "ExecuteTime": {
     "end_time": "2024-02-05T02:47:03.236451813Z",
     "start_time": "2024-02-05T02:46:52.707102319Z"
    }
   },
   "outputs": [],
   "source": [
    "from pathlib import Path\n",
    "from MRdataset import import_dataset\n",
    "# check if install worked\n",
    "# check version\n",
    "# upgrade command\n"
   ]
  },
  {
   "cell_type": "markdown",
   "metadata": {},
   "source": [
    "## Motivation<a name=\"motivation\"></a>\n",
    "Large scale neuroimaging datasets play an essential role in brain-behavior relationships. While neuroimaging studies have shown promising results, reproducibility can be affected by differences in acquisition parameters at the scanner level. The motivation behind creating MRdataset is to provide a unified interface to access image acquisition data, across various formats such as XNAT, BIDS, LONI etc.\n",
    "\n",
    "Having a unified interface to access image acquisition data is important because it allows users to easily and consistently access and manipulate the data, regardless of the specific format or source of the data. This can save time and reduce the potential for errors, as users do not need to worry about dealing with the nuances of different data formats or sources. In addition, a unified interface can make it easier to integrate image acquisition data with other systems and processes, allowing for more efficient and effective analysis and use of the data."
   ]
  },
  {
   "cell_type": "markdown",
   "metadata": {},
   "source": [
    "## Importing a dataset<a name=\"importing\"></a>\n",
    "To provide concrete examples, let's jump to an example right away. We will use an example dicom dataset to provide an example. Note that the outputs will be quite different based on your data. We will complete this tutorial using a dicom dataset. However, the libraries also support BIDS datasets. Example code for BIDS dataset would be discussed later in this tutorial\n",
    "\n",
    "Let's get started!"
   ]
  },
  {
   "cell_type": "markdown",
   "metadata": {},
   "source": [
    "A dataset can be imported from disk, simply using the function `import_dataset`. Observe that it includes the functionality to add a `name` to the dataset, and also `ds_format` is specified which can be one of either `dicom` or `bids`. As of now, we have an empty dataset."
   ]
  },
  {
   "cell_type": "code",
   "execution_count": 4,
   "metadata": {
    "ExecuteTime": {
     "end_time": "2023-10-12T19:27:37.854335393Z",
     "start_time": "2023-10-12T19:27:37.718338708Z"
    }
   },
   "outputs": [],
   "source": [
    "import zipfile\n",
    "MRdataset_root = Path(__name__).resolve().parents[1]\n",
    "DATA_ARCHIVE = MRdataset_root / 'MRdataset/tests/resources/example_dicom_data.zip'\n",
    "DATA_ROOT = Path('/tmp/')\n",
    "with zipfile.ZipFile(DATA_ARCHIVE, 'r') as zip_ref:\n",
    "    zip_ref.extractall(DATA_ROOT)"
   ]
  },
  {
   "cell_type": "code",
   "execution_count": 5,
   "outputs": [
    {
     "data": {
      "text/plain": "True"
     },
     "execution_count": 5,
     "metadata": {},
     "output_type": "execute_result"
    }
   ],
   "source": [
    "DATA_ARCHIVE.is_file()"
   ],
   "metadata": {
    "collapsed": false,
    "ExecuteTime": {
     "end_time": "2023-10-12T19:27:37.961522460Z",
     "start_time": "2023-10-12T19:27:37.920006322Z"
    }
   }
  },
  {
   "cell_type": "code",
   "execution_count": 6,
   "metadata": {
    "ExecuteTime": {
     "end_time": "2023-10-12T19:27:41.843678756Z",
     "start_time": "2023-10-12T19:27:38.133326449Z"
    }
   },
   "outputs": [],
   "source": [
    "import tempfile\n",
    "tmp_output_dir = tempfile.gettempdir()\n",
    "config_filepath = MRdataset_root / 'MRdataset/tests/resources/mri-config.json'\n",
    "dicom_dataset = import_dataset(data_source=DATA_ROOT/'example_dicom_data',\n",
    "                               ds_format='dicom',\n",
    "                               name='dummy_study_experiment',\n",
    "                               config_path=config_filepath,\n",
    "                               output_dir=tmp_output_dir)"
   ]
  },
  {
   "cell_type": "markdown",
   "metadata": {},
   "source": [
    "If a dataset is empty, it means that there is no data stored in it. This can be a problem if the dataset is supposed to contain data that is needed for a particular analysis or task. In such cases, the absence of data can prevent the analysis or task from being performed, or it can lead to incorrect or incomplete results.\n",
    "\n",
    "Using the `print()` method to see the contents of a dataset can be beneficial because it allows the user to quickly and easily view the data, without having to write additional code to extract and display the data."
   ]
  },
  {
   "cell_type": "code",
   "execution_count": 7,
   "metadata": {
    "ExecuteTime": {
     "end_time": "2023-10-12T19:27:41.854792482Z",
     "start_time": "2023-10-12T19:27:41.845115510Z"
    }
   },
   "outputs": [
    {
     "name": "stdout",
     "output_type": "stream",
     "text": [
      "10 subjects with 103 sessions in total\n"
     ]
    }
   ],
   "source": [
    "print(dicom_dataset)"
   ]
  },
  {
   "cell_type": "markdown",
   "metadata": {},
   "source": [
    "It prints concise information about the dataset, i.e. the number of subjects inside dataset (10). It also mentions the number of sessions in the dataset. Any file which identified as a localizer is skipped. In general, these are not required, but you still want to include them in your dataset, you can specify in config file."
   ]
  },
  {
   "cell_type": "markdown",
   "metadata": {},
   "source": [
    "## Structure"
   ]
  },
  {
   "cell_type": "markdown",
   "metadata": {},
   "source": [
    "Going further, lets dig deeper what are the elements present in our dataset. It is essential to describe the elements of a dataset because it helps to provide context and information about the data that is contained in the dataset. This can be useful for other users or researchers who are working with the MRdataset, as it allows them to understand the structure and how it should be interpreted. In addition, describing the elements of a dataset can help to ensure that the data structure is being used correctly and consistently, and it can also facilitate the integration of the dataset with other data sources or systems.\n",
    "\n",
    "The library has hierarchichal structure as displayed below:"
   ]
  },
  {
   "cell_type": "markdown",
   "metadata": {},
   "source": [
    "![alt text](images/hierarchy.jpg \"Title\")"
   ]
  },
  {
   "cell_type": "markdown",
   "metadata": {},
   "source": [
    "The above figure shows a simple schematic to depict the structure of MRdataset object.\n",
    "\n",
    "Different MRI modalities, such as T1-weighted, T2-weighted, and diffusion-weighted imaging, can provide different types of information about the structure and composition of tissues in the body. Additionally, MRI scans are often performed on multiple subjects, such as healthy individuals and patients with a specific condition, in order to compare and contrast the differences in their anatomy and physiology. This can help researchers to better understand the underlying mechanisms of a particular condition or disease, and to develop more effective treatments.\n",
    "\n",
    "Similarly, the MRdataset object is a hierarchical data structure that is made up of different elements of a neuroimaging experiment, such as modalities, subjects, sessions and runs. Each element is represented as a node in a tree, and the edges connect the nodes to show hierarchical relationship between data elements.\n",
    "\n",
    "So, the **dataset** is at the top of the tree, and the various modalities beneath it, like T1-weighted, T2-weighted and diffusion-weighted are branching out of the dataset. The term **modality/sequence** refers to the specific technique that is used to acquire the imaging data. Each modality contains several subjects, which are part of the experiments. Observe that different modalities may typically have common subjects, in order to compare and contrast the differences in their brain anatomy and function.\n",
    "\n",
    "Each **subject** may have one or more sessions for a modality. The term **session** refers to a specific imaging session that is performed on a given subject. Typically, there would be multiple sessions in order to obtain multiple sets of data for a given subject. Often, a subject return to MR Research center several time during a span of 1-2 years, which helps in tracking longitudnal changes in the brain.\n",
    "\n",
    "Finally, **run** refers to a specific set if imaging data that is acquired during a given session. Often, a single session will involve multiple runs to obtain a comprehensive acquisition. For example, an fMRI experiment involves multiple runs, each of which acquires information about particular brain region or might even have a different behavioral task."
   ]
  },
  {
   "cell_type": "markdown",
   "metadata": {},
   "source": [
    "We follow this hierarchical structure in our dataset `dicom_dataset` object. And we provide methods for accessing each of these elements. These methods are `traverse_horizontal` and `traverse_vertical2`. For example, we can traverse through all the subjects for a given sequence/modality using `traverse_horizontal` method. Similarly, we can traverse through all the sequences/modality for a given subject using `traverse_vertical2` method. Let's see an example."
   ]
  },
  {
   "cell_type": "code",
   "execution_count": 8,
   "metadata": {
    "ExecuteTime": {
     "end_time": "2023-10-12T19:28:08.070174353Z",
     "start_time": "2023-10-12T19:28:08.022829047Z"
    }
   },
   "outputs": [
    {
     "name": "stdout",
     "output_type": "stream",
     "text": [
      "dummy_study_experiment dataset contains following modalities:\n",
      "\t DTI_LR\n",
      "\t ACR_Axial_T1\n",
      "\t rsfMRI_LR\n",
      "\t me_FieldMap_GRE\n",
      "\t 3D_T2_FLAIR\n",
      "\t rsfMRI_RL\n",
      "\t 3D_T1-weighted\n",
      "\t DTI_LR_repeat\n",
      "\t 2D_GRE-MT\n",
      "\t ACR_Sag_locator\n",
      "\t DTI_RL\n",
      "\t me_fMRI\n"
     ]
    }
   ],
   "source": [
    "print(f\"{dicom_dataset.name} dataset contains following modalities:\")\n",
    "for sequence in dicom_dataset.get_sequence_ids():\n",
    "    print('\\t',sequence)"
   ]
  },
  {
   "cell_type": "markdown",
   "metadata": {},
   "source": [
    "And we can browse through each one of modalities, to see that they contain several subjects."
   ]
  },
  {
   "cell_type": "code",
   "execution_count": 9,
   "metadata": {
    "ExecuteTime": {
     "end_time": "2023-10-12T19:28:09.110765878Z",
     "start_time": "2023-10-12T19:28:09.098582054Z"
    }
   },
   "outputs": [
    {
     "name": "stdout",
     "output_type": "stream",
     "text": [
      "Subject: 10995,\n",
      "Session: 1.3.12.2.1107.5.2.43.167092.30000022041112264816000000001,\n",
      "Run: 1.3.12.2.1107.5.2.43.167092.2022041109170424474564662.0.0.0,\n",
      "Sequence: 3D_T2_FLAIR(SBS=Unspecified,IF=123.258318,SSEQ=['SE','IR'],MAF=Unspecified,MMN=PRISMA_FIT,NAV=1.0,RCN=Unspecified,MRAT=3D,ACQM=[0.0, 0.0, 256.0, 256.0],PPCSD=+LPH,TR=4800.0,SCOP=['IR','PFP','FS'],BPE=BRAIN,PS=100.0,WW=344.0,PRFIP=Unspecified,PATM=P2,SHS=[2869.0, -10999.0, 11852.0, -265.0, 89.0, -323.0, 124.0, 22.0],FA=120.0,BS=12.0,PS=[1.0, 1.0],SR=1.0,HB=11.0,R=256.0,SEQV=['SK', 'SP', 'MP'],PAT=GRAPPA,MSM=SEQUENTIAL,PBW=750.0,MFS=3.0,GM=FAST,PED=ROW,PES=229.0,FC=NO,IN=1H,PR=0.0,CS=HC1-7;NC1,2,PP=HFS,SAR=0.13384320005333,DT=2600.0,PPFOV=100.0,SPLS=Unspecified,SMD=408177.5,SL=-9.5,EN=[1.0],TI=1550.0,TCN=BODY,SPP=1.0,TE=[439.0],WC=145.0,LIPV=185.0,AF=N,WCWE=ALGO1,PI=MONOCHROME2,C=256.0,SHM=STANDARD,BA=16.0,IPP=[-141.63680362701, -9.5, 72.832931518555],PFD=Unspecified,ST=1.0,PHPL=1,MTS=Unspecified,SIPV=0.0,MFR=SIEMENS,IOP=[0.0, 1.0, 0.0, 0.0, 0.0, -1.0],ETL=284.0,SV=SYNGOMRE11,SQNM=*SPCIR_315NS,RCAE=HC1-7;NC1,2,VFAF=Y,PF=Unspecified,MTCS=Unspecified,NLGC=['ORIGINAL','PRIMARY','M','NORM','DIS3D','DIS2D'])\n"
     ]
    }
   ],
   "source": [
    "seq_name = '3D_T2_FLAIR'\n",
    "for subject, session, run, sequence in dicom_dataset.traverse_horizontal(seq_name):\n",
    "    print(f\"Subject: {subject},\\nSession: {session},\\nRun: {run},\\nSequence: {sequence}\")\n",
    "    break"
   ]
  },
  {
   "cell_type": "markdown",
   "source": [
    "Note that it returns a protocol.BaseSequence object. This object contains information about the sequence, such as the name of the sequence, and the various acquisition parameters that were used to acquire the data.  For more details about the Sequence object, please refer to the documentation for protocol library.\n",
    "\n",
    "Similarly we can use `traverse_vertical2` method to traverse through all the pair of sequences for a given subject. It is helpful for retrieving epi and fieldmaps for a given subject. Let's see an example."
   ],
   "metadata": {
    "collapsed": false
   }
  },
  {
   "cell_type": "code",
   "execution_count": 10,
   "outputs": [
    {
     "name": "stdout",
     "output_type": "stream",
     "text": [
      "me_fMRI(SBS=3.5999999077321,IF=123.25575,SSEQ=EP,MAF=Unspecified,MMN=PRISMA_FIT,NAV=1.0,RCN=Unspecified,MRAT=2D,ACQM=[0.0, 0.0, 64.0, 64.0],PPCSD=+LPH,TR=2000.0,SCOP=FS,BPE=BRAIN,PS=100.0,WW=19535.0,PRFIP=Unspecified,PATM=P2,SHS=[-1.0, -1.0, -1.0, 308.0, -22.0, -206.0, 209.0, 64.0],FA=79.0,BS=16.0,PS=[3.0, 3.0],SR=1.0,HB=15.0,R=384.0,SEQV=['SK', 'SS'],PAT=GRAPPA,MSM=INTERLEAVED,PBW=2300.0,MFS=3.0,GM=Unspecified,PED=COL,PES=64.0,FC=NO,IN=1H,PR=0.0,CS=HEA;HEP,PP=HFS,SAR=0.04088451623671,DT=3400.0,PPFOV=100.0,SPLS=Unspecified,SMD=15.0,SL=-33.772078200474,EN=1.0,TI=Unspecified,TCN=BODY,SPP=1.0,TE=[20.0],WC=9320.0,LIPV=29919.0,AF=N,WCWE=ALGO1,PI=MONOCHROME2,C=384.0,SHM=STANDARD,BA=16.0,IPP=[-594.35958775553, -576.0, -0.5949590179887],PFD=Unspecified,ST=3.0,PHPL=0,MTS=Unspecified,SIPV=0.0,MFR=SIEMENS,IOP=[1.0, 0.0, 0.0, 0.0, 0.99844076416615, -0.0558215052763],ETL=32.0,SV=SYNGOMRD13D,SQNM=EPFID2D2_64,RCAE=HEA;HEP,VFAF=N,PF=Unspecified,MTCS=Unspecified,NLGC=['ORIGINAL','PRIMARY','M','TE1','ND','MOSAIC'])\n",
      "me_FieldMap_GRE(SBS=3.6,IF=123.255762,SSEQ=GR,MAF=Unspecified,MMN=PRISMA_FIT,NAV=1.0,RCN=Unspecified,MRAT=2D,ACQM=[0.0, 0.0, 64.0, 64.0],PPCSD=+LPH,TR=400.0,SCOP=Unspecified,BPE=BRAIN,PS=100.0,WW=5008.0,PRFIP=Unspecified,PATM=Unspecified,SHS=[-1.0, -1.0, -1.0, 318.0, -26.0, -183.0, 198.0, 63.0],FA=60.0,BS=12.0,PS=[3.0, 3.0],SR=1.0,HB=11.0,R=64.0,SEQV=['SP'],PAT=NOTSELECTED,MSM=INTERLEAVED,PBW=260.0,MFS=3.0,GM=NORMAL,PED=COL,PES=64.0,FC=YES,IN=1H,PR=0.0,CS=HEA;HEP,PP=HFS,SAR=0.06507389510168,DT=30000.0,PPFOV=100.0,SPLS=Unspecified,SMD=50400.0,SL=38.227920213169,EN=2.0,TI=Unspecified,TCN=BODY,SPP=1.0,TE=[7.65],WC=50.0,LIPV=3510.0,AF=N,WCWE=ALGO1,PI=MONOCHROME2,C=64.0,SHM=STANDARD,BA=16.0,IPP=[-111.08887308285, -96.0, 44.498451908867],PFD=Unspecified,ST=3.0,PHPL=1,MTS=Unspecified,SIPV=176.0,MFR=SIEMENS,IOP=[1.0, 0.0, 0.0, 0.0, 0.99844076416615, -0.0558215052763],ETL=0.0,SV=SYNGOMRD13D,SQNM=*FM2D2R,RCAE=HEA;HEP,VFAF=N,PF=Unspecified,MTCS=Unspecified,NLGC=['ORIGINAL','PRIMARY','P','ND'])\n"
     ]
    }
   ],
   "source": [
    "seq_id1 = 'me_fMRI'\n",
    "seq_id2 = 'me_FieldMap_GRE'\n",
    "\n",
    "for subject, session, run1, run2, seq1, seq2 in dicom_dataset.traverse_vertical2(seq_id1, seq_id2):\n",
    "    print(seq1)\n",
    "    print(seq2)\n",
    "    break"
   ],
   "metadata": {
    "collapsed": false,
    "ExecuteTime": {
     "end_time": "2023-10-12T19:28:10.337512996Z",
     "start_time": "2023-10-12T19:28:10.327151569Z"
    }
   }
  },
  {
   "cell_type": "markdown",
   "source": [
    "## A similar example with BIDS dataset would be:"
   ],
   "metadata": {
    "collapsed": false
   }
  },
  {
   "cell_type": "code",
   "outputs": [
    {
     "name": "stdout",
     "output_type": "stream",
     "text": [
      "True\n"
     ]
    }
   ],
   "source": [
    "import zipfile\n",
    "MRdataset_root = Path(__name__).resolve().parents[1]\n",
    "DATA_ARCHIVE = MRdataset_root / 'MRdataset/tests/resources/example_bids_data.zip'\n",
    "DATA_ROOT = Path('/tmp/')\n",
    "with zipfile.ZipFile(DATA_ARCHIVE, 'r') as zip_ref:\n",
    "    zip_ref.extractall(DATA_ROOT)\n",
    "print((DATA_ROOT/'example_bids_dataset').exists())\n",
    "bids_dataset = import_dataset(data_source=DATA_ROOT/'example_bids_dataset',\n",
    "                               ds_format='bids')"
   ],
   "metadata": {
    "collapsed": false,
    "ExecuteTime": {
     "end_time": "2024-02-05T02:50:18.509122234Z",
     "start_time": "2024-02-05T02:50:17.116480480Z"
    }
   },
   "execution_count": 8
  },
  {
   "cell_type": "code",
   "outputs": [
    {
     "data": {
      "text/plain": "6 subjects with 542 sessions in total"
     },
     "execution_count": 9,
     "metadata": {},
     "output_type": "execute_result"
    }
   ],
   "source": [
    "bids_dataset"
   ],
   "metadata": {
    "collapsed": false,
    "ExecuteTime": {
     "end_time": "2024-02-05T02:50:19.656918419Z",
     "start_time": "2024-02-05T02:50:19.650049515Z"
    }
   },
   "execution_count": 9
  },
  {
   "cell_type": "code",
   "outputs": [
    {
     "name": "stdout",
     "output_type": "stream",
     "text": [
      "Subject: sub-02,\n",
      "Session: ses-perceptionLetterImage01,\n",
      "Run: run-01,\n",
      "Sequence: func(SPP=InvalidType,SPLS=InvalidType,TR=2.0,FC=InvalidType,SHM=InvalidType,PF=InvalidType,PATM=InvalidType,SSEQ=InvalidType,SEQV=InvalidType,DT=InvalidType,SHS=InvalidType,MRAT=InvalidType,WCWE=InvalidType,PFD=InvalidType,TCN=InvalidType,AF=InvalidType,MFS=3.0,WC=InvalidType,IOP=InvalidType,SBS=InvalidType,PAT=InvalidType,FOV=InvalidType,PS=InvalidType,PHPL=InvalidType,NAV=InvalidType,IPP=InvalidType,PPFOV=InvalidType,NLGC=InvalidType,HB=InvalidType,TI=InvalidType,MTCS=InvalidType,RCAE=InvalidType,SV=InvalidType,ST=InvalidType,PP=InvalidType,RCN=InvalidType,MAF=InvalidType,SCOP=InvalidType,IF=InvalidType,BPE=InvalidType,SQNM=InvalidType,MTS=InvalidType,BA=InvalidType,VFAF=InvalidType,ETL=InvalidType,IN=InvalidType,WW=InvalidType,SIPV=InvalidType,ACQM=InvalidType,PPCSD=InvalidType,PED=InvalidType,PES=InvalidType,MSM=InvalidType,SR=InvalidType,SMD=InvalidType,CS=InvalidType,MFR=SIEMENS,MMN=VERIO,GM=InvalidType,LIPV=InvalidType,PR=InvalidType,PBW=InvalidType,PS=InvalidType,BS=InvalidType,IT=InvalidType,R=InvalidType,SL=InvalidType,C=InvalidType,PRFIP=InvalidType,FA=80.0,EN=InvalidType,SAR=InvalidType,PI=InvalidType,TE=[0.043])\n"
     ]
    }
   ],
   "source": [
    "seq_name = 'func'\n",
    "for subject, session, run, sequence in dicom_dataset.traverse_horizontal(seq_name):\n",
    "    print(f\"Subject: {subject},\\nSession: {session},\\nRun: {run},\\nSequence: {sequence}\")\n",
    "    break"
   ],
   "metadata": {
    "collapsed": false,
    "ExecuteTime": {
     "end_time": "2024-02-05T02:57:56.046980815Z",
     "start_time": "2024-02-05T02:57:55.988220218Z"
    }
   },
   "execution_count": 13
  },
  {
   "cell_type": "markdown",
   "metadata": {},
   "source": [
    "## Saving and Loading a dataset<a name=\"saving\"></a>"
   ]
  },
  {
   "cell_type": "markdown",
   "metadata": {},
   "source": [
    "Saving and loading a dataset is important because it allows you to store and retrieve your data for later use. This is especially useful when you have a large dataset that takes a long time to process or generate, or when you want to share your dataset with others.\n",
    "\n",
    "By saving your dataset, you can avoid having to recreate it each time you want to use it, which can save you a significant amount of time and resources. Additionally, storing your dataset in a structured and organized way can make it easier to analyze and manipulate later on.\n",
    "\n",
    "Overall, the ability to save and load a dataset is a valuable tool that can help you work more efficiently and effectively with your data.\n",
    "\n",
    "We use `save_mr_dataset` and `load_mr_dataset` to save and load MRdataset objects, respectively. Let's see an example. The function `save_mr_dataset` takes the filepath to which the dataset is to be saved. The dataset is saved with an extension *.mrds.pkl*\n"
   ]
  },
  {
   "cell_type": "code",
   "execution_count": 11,
   "metadata": {
    "ExecuteTime": {
     "end_time": "2023-10-12T19:28:15.806754960Z",
     "start_time": "2023-10-12T19:28:15.776717571Z"
    }
   },
   "outputs": [],
   "source": [
    "from MRdataset import save_mr_dataset, load_mr_dataset\n",
    "save_mr_dataset(filepath=DATA_ROOT/'example_dicom.mrds.pkl',\n",
    "                mrds_obj=dicom_dataset)"
   ]
  },
  {
   "cell_type": "markdown",
   "source": [
    "If you recieve a error something like this:\n",
    "```python\n",
    "    PicklingError: Can't pickle <class 'protocol.imaging.DwellTime'>: it's not the same object as protocol.imaging.DwellTime\n",
    "```\n",
    "The issue is due to the Jupyter Notebook environment. You can fix the problem by restarting the kernel and running the notebook again. This is a known issue with Jupyter Notebook. If you are using a python script, you won't face this issue."
   ],
   "metadata": {
    "collapsed": false
   }
  },
  {
   "cell_type": "markdown",
   "metadata": {},
   "source": [
    "We can read back the dataset, we just saved to disk."
   ]
  },
  {
   "cell_type": "code",
   "execution_count": 12,
   "metadata": {
    "ExecuteTime": {
     "end_time": "2023-10-12T19:30:04.673689077Z",
     "start_time": "2023-10-12T19:30:04.632155230Z"
    }
   },
   "outputs": [
    {
     "name": "stdout",
     "output_type": "stream",
     "text": [
      "10 subjects with 103 sessions in total\n"
     ]
    }
   ],
   "source": [
    "saved_dataset = load_mr_dataset(filepath=DATA_ROOT/'example_dicom.mrds.pkl')\n",
    "print(saved_dataset)"
   ]
  },
  {
   "cell_type": "markdown",
   "metadata": {},
   "source": [
    "Thus, by cross-checking that the saved dataset is same as the original dataset ensures integrity of the data. It also verifies that while saving, the data has not been modified or corrupted in some way, thus improving reliability of your analysis and modeling."
   ]
  },
  {
   "cell_type": "markdown",
   "source": [
    "The library is highly extensible, and a developer can extend it to their own neuroimaging formats. For example, to create an interface with a new format, say\n",
    "NID (NeuroImaging Dataset), inherit ``MRdataset.base.BaseDataset`` in a file ``NID_dataset.py``"
   ],
   "metadata": {
    "collapsed": false
   }
  },
  {
   "cell_type": "code",
   "execution_count": 3,
   "outputs": [],
   "source": [
    "from MRdataset import BaseDataset\n",
    "\n",
    "class NIDDataset(BaseDataset):\n",
    "    def __init__(data_source):\n",
    "        super().init(data_source)\n",
    "        pass\n",
    "\n",
    "    def load():\n",
    "        pass\n"
   ],
   "metadata": {
    "collapsed": false,
    "ExecuteTime": {
     "end_time": "2023-10-12T19:47:48.468073177Z",
     "start_time": "2023-10-12T19:47:48.165208729Z"
    }
   }
  },
  {
   "cell_type": "code",
   "execution_count": null,
   "outputs": [],
   "source": [],
   "metadata": {
    "collapsed": false
   }
  }
 ],
 "metadata": {
  "kernelspec": {
   "display_name": "Python 3 (ipykernel)",
   "language": "python",
   "name": "python3"
  },
  "language_info": {
   "codemirror_mode": {
    "name": "ipython",
    "version": 3
   },
   "file_extension": ".py",
   "mimetype": "text/x-python",
   "name": "python",
   "nbconvert_exporter": "python",
   "pygments_lexer": "ipython3",
   "version": "3.8.16"
  }
 },
 "nbformat": 4,
 "nbformat_minor": 1
}
