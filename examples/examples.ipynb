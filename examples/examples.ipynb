{
 "cells": [
  {
   "cell_type": "code",
   "execution_count": 1,
   "outputs": [],
   "source": [
    "%load_ext autoreload\n",
    "%autoreload 2"
   ],
   "metadata": {
    "collapsed": false,
    "pycharm": {
     "name": "#%%\n"
    }
   }
  },
  {
   "cell_type": "code",
   "execution_count": 3,
   "outputs": [],
   "source": [
    "from MRdataset import create_dataset\n",
    "mydataset = create_dataset(data_root='/home/sinhah/datasets/sinhah-20220520_210659/0755JJ/scans/33-gre_field_mapping/resources/DICOM/1.3.12.2.1107.5.2.43.67078.30000020030311592662500000013-33-6-122um23.dcm')\n"
   ],
   "metadata": {
    "collapsed": false,
    "pycharm": {
     "name": "#%%\n"
    }
   }
  },
  {
   "cell_type": "code",
   "execution_count": 6,
   "outputs": [
    {
     "name": "stdout",
     "output_type": "stream",
     "text": [
      "{'mode': ['GR', 'SP'], 'files': ['/media/harsh/My Passport/MRI_Datasets/sinhah-20220514_140054/MIND016/scans/10-gre_field_mapping/resources/DICOM/1.3.12.2.1107.5.2.43.67078.30000019082010561171200000019-10-1-13j6l3y.dcm', '/media/harsh/My Passport/MRI_Datasets/sinhah-20220514_140054/MIND016/scans/10-gre_field_mapping/resources/DICOM/1.3.12.2.1107.5.2.43.67078.30000019082010561171200000019-10-1-ubeglz.dcm', '/media/harsh/My Passport/MRI_Datasets/sinhah-20220514_140054/MIND016/scans/10-gre_field_mapping/resources/DICOM/1.3.12.2.1107.5.2.43.67078.30000019082010561171200000019-10-10-1480vds.dcm', '/media/harsh/My Passport/MRI_Datasets/sinhah-20220514_140054/MIND016/scans/10-gre_field_mapping/resources/DICOM/1.3.12.2.1107.5.2.43.67078.30000019082010561171200000019-10-10-1542ix5.dcm', '/media/harsh/My Passport/MRI_Datasets/sinhah-20220514_140054/MIND016/scans/10-gre_field_mapping/resources/DICOM/1.3.12.2.1107.5.2.43.67078.30000019082010561171200000019-10-11-1oiz6so.dcm', '/media/harsh/My Passport/MRI_Datasets/sinhah-20220514_140054/MIND016/scans/10-gre_field_mapping/resources/DICOM/1.3.12.2.1107.5.2.43.67078.30000019082010561171200000019-10-11-seuj2w.dcm', '/media/harsh/My Passport/MRI_Datasets/sinhah-20220514_140054/MIND016/scans/10-gre_field_mapping/resources/DICOM/1.3.12.2.1107.5.2.43.67078.30000019082010561171200000019-10-12-1a7e5eo.dcm', '/media/harsh/My Passport/MRI_Datasets/sinhah-20220514_140054/MIND016/scans/10-gre_field_mapping/resources/DICOM/1.3.12.2.1107.5.2.43.67078.30000019082010561171200000019-10-12-iehvue.dcm', '/media/harsh/My Passport/MRI_Datasets/sinhah-20220514_140054/MIND016/scans/10-gre_field_mapping/resources/DICOM/1.3.12.2.1107.5.2.43.67078.30000019082010561171200000019-10-13-qw8mck.dcm', '/media/harsh/My Passport/MRI_Datasets/sinhah-20220514_140054/MIND016/scans/10-gre_field_mapping/resources/DICOM/1.3.12.2.1107.5.2.43.67078.30000019082010561171200000019-10-13-ykp2cr.dcm', '/media/harsh/My Passport/MRI_Datasets/sinhah-20220514_140054/MIND016/scans/10-gre_field_mapping/resources/DICOM/1.3.12.2.1107.5.2.43.67078.30000019082010561171200000019-10-14-12rksj.dcm', '/media/harsh/My Passport/MRI_Datasets/sinhah-20220514_140054/MIND016/scans/10-gre_field_mapping/resources/DICOM/1.3.12.2.1107.5.2.43.67078.30000019082010561171200000019-10-33-14pfx0u.dcm', '/media/harsh/My Passport/MRI_Datasets/sinhah-20220514_140054/MIND016/scans/10-gre_field_mapping/resources/DICOM/1.3.12.2.1107.5.2.43.67078.30000019082010561171200000019-10-33-1tsqvqh.dcm', '/media/harsh/My Passport/MRI_Datasets/sinhah-20220514_140054/MIND016/scans/10-gre_field_mapping/resources/DICOM/1.3.12.2.1107.5.2.43.67078.30000019082010561171200000019-10-34-1gkagsp.dcm', '/media/harsh/My Passport/MRI_Datasets/sinhah-20220514_140054/MIND016/scans/10-gre_field_mapping/resources/DICOM/1.3.12.2.1107.5.2.43.67078.30000019082010561171200000019-10-34-v8w2zm.dcm', '/media/harsh/My Passport/MRI_Datasets/sinhah-20220514_140054/MIND016/scans/10-gre_field_mapping/resources/DICOM/1.3.12.2.1107.5.2.43.67078.30000019082010561171200000019-10-35-1qndrr3.dcm', '/media/harsh/My Passport/MRI_Datasets/sinhah-20220514_140054/MIND016/scans/10-gre_field_mapping/resources/DICOM/1.3.12.2.1107.5.2.43.67078.30000019082010561171200000019-10-35-1x5cwkz.dcm', '/media/harsh/My Passport/MRI_Datasets/sinhah-20220514_140054/MIND016/scans/10-gre_field_mapping/resources/DICOM/1.3.12.2.1107.5.2.43.67078.30000019082010561171200000019-10-36-11ommbf.dcm', '/media/harsh/My Passport/MRI_Datasets/sinhah-20220514_140054/MIND016/scans/10-gre_field_mapping/resources/DICOM/1.3.12.2.1107.5.2.43.67078.30000019082010561171200000019-10-36-1xkcglc.dcm', '/media/harsh/My Passport/MRI_Datasets/sinhah-20220514_140054/MIND016/scans/10-gre_field_mapping/resources/DICOM/1.3.12.2.1107.5.2.43.67078.30000019082010561171200000019-10-37-15pra7g.dcm', '/media/harsh/My Passport/MRI_Datasets/sinhah-20220514_140054/MIND016/scans/10-gre_field_mapping/resources/DICOM/1.3.12.2.1107.5.2.43.67078.30000019082010561171200000019-10-37-1gar12h.dcm', '/media/harsh/My Passport/MRI_Datasets/sinhah-20220514_140054/MIND016/scans/10-gre_field_mapping/resources/DICOM/1.3.12.2.1107.5.2.43.67078.30000019082010561171200000019-10-38-1yl5e7z.dcm', '/media/harsh/My Passport/MRI_Datasets/sinhah-20220514_140054/MIND016/scans/10-gre_field_mapping/resources/DICOM/1.3.12.2.1107.5.2.43.67078.30000019082010561171200000019-10-51-4h7suh.dcm', '/media/harsh/My Passport/MRI_Datasets/sinhah-20220514_140054/MIND016/scans/10-gre_field_mapping/resources/DICOM/1.3.12.2.1107.5.2.43.67078.30000019082010561171200000019-10-52-16eowu9.dcm', '/media/harsh/My Passport/MRI_Datasets/sinhah-20220514_140054/MIND016/scans/10-gre_field_mapping/resources/DICOM/1.3.12.2.1107.5.2.43.67078.30000019082010561171200000019-10-52-3hl23x.dcm', '/media/harsh/My Passport/MRI_Datasets/sinhah-20220514_140054/MIND016/scans/10-gre_field_mapping/resources/DICOM/1.3.12.2.1107.5.2.43.67078.30000019082010561171200000019-10-53-1l620fc.dcm', '/media/harsh/My Passport/MRI_Datasets/sinhah-20220514_140054/MIND016/scans/10-gre_field_mapping/resources/DICOM/1.3.12.2.1107.5.2.43.67078.30000019082010561171200000019-10-53-1prr3pf.dcm', '/media/harsh/My Passport/MRI_Datasets/sinhah-20220514_140054/MIND016/scans/10-gre_field_mapping/resources/DICOM/1.3.12.2.1107.5.2.43.67078.30000019082010561171200000019-10-54-chb3rd.dcm', '/media/harsh/My Passport/MRI_Datasets/sinhah-20220514_140054/MIND016/scans/10-gre_field_mapping/resources/DICOM/1.3.12.2.1107.5.2.43.67078.30000019082010561171200000019-10-54-jum4tx.dcm', '/media/harsh/My Passport/MRI_Datasets/sinhah-20220514_140054/MIND016/scans/10-gre_field_mapping/resources/DICOM/1.3.12.2.1107.5.2.43.67078.30000019082010561171200000019-10-55-1agua3g.dcm', '/media/harsh/My Passport/MRI_Datasets/sinhah-20220514_140054/MIND016/scans/10-gre_field_mapping/resources/DICOM/1.3.12.2.1107.5.2.43.67078.30000019082010561171200000019-10-55-41bbfi.dcm', '/media/harsh/My Passport/MRI_Datasets/sinhah-20220514_140054/MIND016/scans/10-gre_field_mapping/resources/DICOM/1.3.12.2.1107.5.2.43.67078.30000019082010561171200000019-10-56-1qjnotp.dcm', '/media/harsh/My Passport/MRI_Datasets/sinhah-20220514_140054/MIND016/scans/10-gre_field_mapping/resources/DICOM/1.3.12.2.1107.5.2.43.67078.30000019082010561171200000019-10-56-yt5144.dcm', '/media/harsh/My Passport/MRI_Datasets/sinhah-20220514_140054/MIND016/scans/10-gre_field_mapping/resources/DICOM/1.3.12.2.1107.5.2.43.67078.30000019082010561171200000019-10-57-1ikyssf.dcm', '/media/harsh/My Passport/MRI_Datasets/sinhah-20220514_140054/MIND016/scans/10-gre_field_mapping/resources/DICOM/1.3.12.2.1107.5.2.43.67078.30000019082010561171200000019-10-57-ys4qk8.dcm', '/media/harsh/My Passport/MRI_Datasets/sinhah-20220514_140054/MIND016/scans/10-gre_field_mapping/resources/DICOM/1.3.12.2.1107.5.2.43.67078.30000019082010561171200000019-10-58-6lr33c.dcm', '/media/harsh/My Passport/MRI_Datasets/sinhah-20220514_140054/MIND016/scans/10-gre_field_mapping/resources/DICOM/1.3.12.2.1107.5.2.43.67078.30000019082010561171200000019-10-58-pdnbwk.dcm', '/media/harsh/My Passport/MRI_Datasets/sinhah-20220514_140054/MIND016/scans/10-gre_field_mapping/resources/DICOM/1.3.12.2.1107.5.2.43.67078.30000019082010561171200000019-10-21-1jdgec4.dcm', '/media/harsh/My Passport/MRI_Datasets/sinhah-20220514_140054/MIND016/scans/10-gre_field_mapping/resources/DICOM/1.3.12.2.1107.5.2.43.67078.30000019082010561171200000019-10-21-90slu1.dcm', '/media/harsh/My Passport/MRI_Datasets/sinhah-20220514_140054/MIND016/scans/10-gre_field_mapping/resources/DICOM/1.3.12.2.1107.5.2.43.67078.30000019082010561171200000019-10-22-4c710d.dcm', '/media/harsh/My Passport/MRI_Datasets/sinhah-20220514_140054/MIND016/scans/10-gre_field_mapping/resources/DICOM/1.3.12.2.1107.5.2.43.67078.30000019082010561171200000019-10-22-ih381m.dcm', '/media/harsh/My Passport/MRI_Datasets/sinhah-20220514_140054/MIND016/scans/10-gre_field_mapping/resources/DICOM/1.3.12.2.1107.5.2.43.67078.30000019082010561171200000019-10-23-1akfedd.dcm', '/media/harsh/My Passport/MRI_Datasets/sinhah-20220514_140054/MIND016/scans/10-gre_field_mapping/resources/DICOM/1.3.12.2.1107.5.2.43.67078.30000019082010561171200000019-10-23-vpi9fo.dcm', '/media/harsh/My Passport/MRI_Datasets/sinhah-20220514_140054/MIND016/scans/10-gre_field_mapping/resources/DICOM/1.3.12.2.1107.5.2.43.67078.30000019082010561171200000019-10-24-1etlk6a.dcm', '/media/harsh/My Passport/MRI_Datasets/sinhah-20220514_140054/MIND016/scans/10-gre_field_mapping/resources/DICOM/1.3.12.2.1107.5.2.43.67078.30000019082010561171200000019-10-24-b2z5pk.dcm', '/media/harsh/My Passport/MRI_Datasets/sinhah-20220514_140054/MIND016/scans/10-gre_field_mapping/resources/DICOM/1.3.12.2.1107.5.2.43.67078.30000019082010561171200000019-10-25-o0d56i.dcm', '/media/harsh/My Passport/MRI_Datasets/sinhah-20220514_140054/MIND016/scans/10-gre_field_mapping/resources/DICOM/1.3.12.2.1107.5.2.43.67078.30000019082010561171200000019-10-25-zx6g57.dcm', '/media/harsh/My Passport/MRI_Datasets/sinhah-20220514_140054/MIND016/scans/10-gre_field_mapping/resources/DICOM/1.3.12.2.1107.5.2.43.67078.30000019082010561171200000019-10-43-1vbl5k1.dcm', '/media/harsh/My Passport/MRI_Datasets/sinhah-20220514_140054/MIND016/scans/10-gre_field_mapping/resources/DICOM/1.3.12.2.1107.5.2.43.67078.30000019082010561171200000019-10-44-1x3vzel.dcm', '/media/harsh/My Passport/MRI_Datasets/sinhah-20220514_140054/MIND016/scans/10-gre_field_mapping/resources/DICOM/1.3.12.2.1107.5.2.43.67078.30000019082010561171200000019-10-44-ite7sj.dcm', '/media/harsh/My Passport/MRI_Datasets/sinhah-20220514_140054/MIND016/scans/10-gre_field_mapping/resources/DICOM/1.3.12.2.1107.5.2.43.67078.30000019082010561171200000019-10-45-1tfae5b.dcm', '/media/harsh/My Passport/MRI_Datasets/sinhah-20220514_140054/MIND016/scans/10-gre_field_mapping/resources/DICOM/1.3.12.2.1107.5.2.43.67078.30000019082010561171200000019-10-45-hl1aeu.dcm', '/media/harsh/My Passport/MRI_Datasets/sinhah-20220514_140054/MIND016/scans/10-gre_field_mapping/resources/DICOM/1.3.12.2.1107.5.2.43.67078.30000019082010561171200000019-10-46-1v7q9e7.dcm', '/media/harsh/My Passport/MRI_Datasets/sinhah-20220514_140054/MIND016/scans/10-gre_field_mapping/resources/DICOM/1.3.12.2.1107.5.2.43.67078.30000019082010561171200000019-10-46-rkeg9o.dcm', '/media/harsh/My Passport/MRI_Datasets/sinhah-20220514_140054/MIND016/scans/10-gre_field_mapping/resources/DICOM/1.3.12.2.1107.5.2.43.67078.30000019082010561171200000019-10-47-1fmgkme.dcm', '/media/harsh/My Passport/MRI_Datasets/sinhah-20220514_140054/MIND016/scans/10-gre_field_mapping/resources/DICOM/1.3.12.2.1107.5.2.43.67078.30000019082010561171200000019-10-47-ppv30n.dcm', '/media/harsh/My Passport/MRI_Datasets/sinhah-20220514_140054/MIND016/scans/10-gre_field_mapping/resources/DICOM/1.3.12.2.1107.5.2.43.67078.30000019082010561171200000019-10-48-1fc797p.dcm', '/media/harsh/My Passport/MRI_Datasets/sinhah-20220514_140054/MIND016/scans/10-gre_field_mapping/resources/DICOM/1.3.12.2.1107.5.2.43.67078.30000019082010561171200000019-10-48-kuyr3k.dcm', '/media/harsh/My Passport/MRI_Datasets/sinhah-20220514_140054/MIND016/scans/10-gre_field_mapping/resources/DICOM/1.3.12.2.1107.5.2.43.67078.30000019082010561171200000019-10-49-15gmtl1.dcm', '/media/harsh/My Passport/MRI_Datasets/sinhah-20220514_140054/MIND016/scans/10-gre_field_mapping/resources/DICOM/1.3.12.2.1107.5.2.43.67078.30000019082010561171200000019-10-49-3quhm.dcm', '/media/harsh/My Passport/MRI_Datasets/sinhah-20220514_140054/MIND016/scans/10-gre_field_mapping/resources/DICOM/1.3.12.2.1107.5.2.43.67078.30000019082010561171200000019-10-5-1u44srm.dcm', '/media/harsh/My Passport/MRI_Datasets/sinhah-20220514_140054/MIND016/scans/10-gre_field_mapping/resources/DICOM/1.3.12.2.1107.5.2.43.67078.30000019082010561171200000019-10-5-3t3mnq.dcm', '/media/harsh/My Passport/MRI_Datasets/sinhah-20220514_140054/MIND016/scans/10-gre_field_mapping/resources/DICOM/1.3.12.2.1107.5.2.43.67078.30000019082010561171200000019-10-50-1ilrflp.dcm', '/media/harsh/My Passport/MRI_Datasets/sinhah-20220514_140054/MIND016/scans/10-gre_field_mapping/resources/DICOM/1.3.12.2.1107.5.2.43.67078.30000019082010561171200000019-10-50-p4ykhb.dcm', '/media/harsh/My Passport/MRI_Datasets/sinhah-20220514_140054/MIND016/scans/10-gre_field_mapping/resources/DICOM/1.3.12.2.1107.5.2.43.67078.30000019082010561171200000019-10-14-ld3z4l.dcm', '/media/harsh/My Passport/MRI_Datasets/sinhah-20220514_140054/MIND016/scans/10-gre_field_mapping/resources/DICOM/1.3.12.2.1107.5.2.43.67078.30000019082010561171200000019-10-20-epegyo.dcm', '/media/harsh/My Passport/MRI_Datasets/sinhah-20220514_140054/MIND016/scans/10-gre_field_mapping/resources/DICOM/1.3.12.2.1107.5.2.43.67078.30000019082010561171200000019-10-26-hq6l1z.dcm', '/media/harsh/My Passport/MRI_Datasets/sinhah-20220514_140054/MIND016/scans/10-gre_field_mapping/resources/DICOM/1.3.12.2.1107.5.2.43.67078.30000019082010561171200000019-10-32-1bs2g8w.dcm', '/media/harsh/My Passport/MRI_Datasets/sinhah-20220514_140054/MIND016/scans/10-gre_field_mapping/resources/DICOM/1.3.12.2.1107.5.2.43.67078.30000019082010561171200000019-10-38-fnd6cc.dcm', '/media/harsh/My Passport/MRI_Datasets/sinhah-20220514_140054/MIND016/scans/10-gre_field_mapping/resources/DICOM/1.3.12.2.1107.5.2.43.67078.30000019082010561171200000019-10-43-1vagmze.dcm', '/media/harsh/My Passport/MRI_Datasets/sinhah-20220514_140054/MIND016/scans/10-gre_field_mapping/resources/DICOM/1.3.12.2.1107.5.2.43.67078.30000019082010561171200000019-10-51-23f0d4.dcm', '/media/harsh/My Passport/MRI_Datasets/sinhah-20220514_140054/MIND016/scans/10-gre_field_mapping/resources/DICOM/1.3.12.2.1107.5.2.43.67078.30000019082010561171200000019-10-59-gtug87.dcm', '/media/harsh/My Passport/MRI_Datasets/sinhah-20220514_140054/MIND016/scans/10-gre_field_mapping/resources/DICOM/1.3.12.2.1107.5.2.43.67078.30000019082010561171200000019-10-15-197k2x8.dcm', '/media/harsh/My Passport/MRI_Datasets/sinhah-20220514_140054/MIND016/scans/10-gre_field_mapping/resources/DICOM/1.3.12.2.1107.5.2.43.67078.30000019082010561171200000019-10-15-jhqsi3.dcm', '/media/harsh/My Passport/MRI_Datasets/sinhah-20220514_140054/MIND016/scans/10-gre_field_mapping/resources/DICOM/1.3.12.2.1107.5.2.43.67078.30000019082010561171200000019-10-16-1f17oki.dcm', '/media/harsh/My Passport/MRI_Datasets/sinhah-20220514_140054/MIND016/scans/10-gre_field_mapping/resources/DICOM/1.3.12.2.1107.5.2.43.67078.30000019082010561171200000019-10-16-1oos2id.dcm', '/media/harsh/My Passport/MRI_Datasets/sinhah-20220514_140054/MIND016/scans/10-gre_field_mapping/resources/DICOM/1.3.12.2.1107.5.2.43.67078.30000019082010561171200000019-10-17-18y6kzv.dcm', '/media/harsh/My Passport/MRI_Datasets/sinhah-20220514_140054/MIND016/scans/10-gre_field_mapping/resources/DICOM/1.3.12.2.1107.5.2.43.67078.30000019082010561171200000019-10-17-k7i23b.dcm', '/media/harsh/My Passport/MRI_Datasets/sinhah-20220514_140054/MIND016/scans/10-gre_field_mapping/resources/DICOM/1.3.12.2.1107.5.2.43.67078.30000019082010561171200000019-10-18-15jt087.dcm', '/media/harsh/My Passport/MRI_Datasets/sinhah-20220514_140054/MIND016/scans/10-gre_field_mapping/resources/DICOM/1.3.12.2.1107.5.2.43.67078.30000019082010561171200000019-10-18-1h1gn2f.dcm', '/media/harsh/My Passport/MRI_Datasets/sinhah-20220514_140054/MIND016/scans/10-gre_field_mapping/resources/DICOM/1.3.12.2.1107.5.2.43.67078.30000019082010561171200000019-10-19-11wqxz5.dcm', '/media/harsh/My Passport/MRI_Datasets/sinhah-20220514_140054/MIND016/scans/10-gre_field_mapping/resources/DICOM/1.3.12.2.1107.5.2.43.67078.30000019082010561171200000019-10-19-a3t6mf.dcm', '/media/harsh/My Passport/MRI_Datasets/sinhah-20220514_140054/MIND016/scans/10-gre_field_mapping/resources/DICOM/1.3.12.2.1107.5.2.43.67078.30000019082010561171200000019-10-2-1itg6ca.dcm', '/media/harsh/My Passport/MRI_Datasets/sinhah-20220514_140054/MIND016/scans/10-gre_field_mapping/resources/DICOM/1.3.12.2.1107.5.2.43.67078.30000019082010561171200000019-10-2-n6dk8q.dcm', '/media/harsh/My Passport/MRI_Datasets/sinhah-20220514_140054/MIND016/scans/10-gre_field_mapping/resources/DICOM/1.3.12.2.1107.5.2.43.67078.30000019082010561171200000019-10-20-4fpxje.dcm', '/media/harsh/My Passport/MRI_Datasets/sinhah-20220514_140054/MIND016/scans/10-gre_field_mapping/resources/DICOM/1.3.12.2.1107.5.2.43.67078.30000019082010561171200000019-10-59-pworsq.dcm', '/media/harsh/My Passport/MRI_Datasets/sinhah-20220514_140054/MIND016/scans/10-gre_field_mapping/resources/DICOM/1.3.12.2.1107.5.2.43.67078.30000019082010561171200000019-10-6-13oh7q6.dcm', '/media/harsh/My Passport/MRI_Datasets/sinhah-20220514_140054/MIND016/scans/10-gre_field_mapping/resources/DICOM/1.3.12.2.1107.5.2.43.67078.30000019082010561171200000019-10-6-4eye4v.dcm', '/media/harsh/My Passport/MRI_Datasets/sinhah-20220514_140054/MIND016/scans/10-gre_field_mapping/resources/DICOM/1.3.12.2.1107.5.2.43.67078.30000019082010561171200000019-10-60-1yhqkhy.dcm', '/media/harsh/My Passport/MRI_Datasets/sinhah-20220514_140054/MIND016/scans/10-gre_field_mapping/resources/DICOM/1.3.12.2.1107.5.2.43.67078.30000019082010561171200000019-10-60-bjioo6.dcm', '/media/harsh/My Passport/MRI_Datasets/sinhah-20220514_140054/MIND016/scans/10-gre_field_mapping/resources/DICOM/1.3.12.2.1107.5.2.43.67078.30000019082010561171200000019-10-7-vbj4jw.dcm', '/media/harsh/My Passport/MRI_Datasets/sinhah-20220514_140054/MIND016/scans/10-gre_field_mapping/resources/DICOM/1.3.12.2.1107.5.2.43.67078.30000019082010561171200000019-10-7-zbn21a.dcm', '/media/harsh/My Passport/MRI_Datasets/sinhah-20220514_140054/MIND016/scans/10-gre_field_mapping/resources/DICOM/1.3.12.2.1107.5.2.43.67078.30000019082010561171200000019-10-8-m6165b.dcm', '/media/harsh/My Passport/MRI_Datasets/sinhah-20220514_140054/MIND016/scans/10-gre_field_mapping/resources/DICOM/1.3.12.2.1107.5.2.43.67078.30000019082010561171200000019-10-8-tu2vez.dcm', '/media/harsh/My Passport/MRI_Datasets/sinhah-20220514_140054/MIND016/scans/10-gre_field_mapping/resources/DICOM/1.3.12.2.1107.5.2.43.67078.30000019082010561171200000019-10-9-1076952.dcm', '/media/harsh/My Passport/MRI_Datasets/sinhah-20220514_140054/MIND016/scans/10-gre_field_mapping/resources/DICOM/1.3.12.2.1107.5.2.43.67078.30000019082010561171200000019-10-9-1g2nn2y.dcm', '/media/harsh/My Passport/MRI_Datasets/sinhah-20220514_140054/MIND016/scans/10-gre_field_mapping/resources/DICOM/1.3.12.2.1107.5.2.43.67078.30000019082010561171200000019-10-26-zr0601.dcm', '/media/harsh/My Passport/MRI_Datasets/sinhah-20220514_140054/MIND016/scans/10-gre_field_mapping/resources/DICOM/1.3.12.2.1107.5.2.43.67078.30000019082010561171200000019-10-27-1k6ju11.dcm', '/media/harsh/My Passport/MRI_Datasets/sinhah-20220514_140054/MIND016/scans/10-gre_field_mapping/resources/DICOM/1.3.12.2.1107.5.2.43.67078.30000019082010561171200000019-10-27-3ujmq0.dcm', '/media/harsh/My Passport/MRI_Datasets/sinhah-20220514_140054/MIND016/scans/10-gre_field_mapping/resources/DICOM/1.3.12.2.1107.5.2.43.67078.30000019082010561171200000019-10-28-1vxjqp6.dcm', '/media/harsh/My Passport/MRI_Datasets/sinhah-20220514_140054/MIND016/scans/10-gre_field_mapping/resources/DICOM/1.3.12.2.1107.5.2.43.67078.30000019082010561171200000019-10-28-clkhb0.dcm', '/media/harsh/My Passport/MRI_Datasets/sinhah-20220514_140054/MIND016/scans/10-gre_field_mapping/resources/DICOM/1.3.12.2.1107.5.2.43.67078.30000019082010561171200000019-10-29-5pown6.dcm', '/media/harsh/My Passport/MRI_Datasets/sinhah-20220514_140054/MIND016/scans/10-gre_field_mapping/resources/DICOM/1.3.12.2.1107.5.2.43.67078.30000019082010561171200000019-10-29-nuhdus.dcm', '/media/harsh/My Passport/MRI_Datasets/sinhah-20220514_140054/MIND016/scans/10-gre_field_mapping/resources/DICOM/1.3.12.2.1107.5.2.43.67078.30000019082010561171200000019-10-3-1blivmw.dcm', '/media/harsh/My Passport/MRI_Datasets/sinhah-20220514_140054/MIND016/scans/10-gre_field_mapping/resources/DICOM/1.3.12.2.1107.5.2.43.67078.30000019082010561171200000019-10-3-msaxya.dcm', '/media/harsh/My Passport/MRI_Datasets/sinhah-20220514_140054/MIND016/scans/10-gre_field_mapping/resources/DICOM/1.3.12.2.1107.5.2.43.67078.30000019082010561171200000019-10-30-1hejkjs.dcm', '/media/harsh/My Passport/MRI_Datasets/sinhah-20220514_140054/MIND016/scans/10-gre_field_mapping/resources/DICOM/1.3.12.2.1107.5.2.43.67078.30000019082010561171200000019-10-30-gbtj99.dcm', '/media/harsh/My Passport/MRI_Datasets/sinhah-20220514_140054/MIND016/scans/10-gre_field_mapping/resources/DICOM/1.3.12.2.1107.5.2.43.67078.30000019082010561171200000019-10-31-1nsl4j.dcm', '/media/harsh/My Passport/MRI_Datasets/sinhah-20220514_140054/MIND016/scans/10-gre_field_mapping/resources/DICOM/1.3.12.2.1107.5.2.43.67078.30000019082010561171200000019-10-31-1pomp3k.dcm', '/media/harsh/My Passport/MRI_Datasets/sinhah-20220514_140054/MIND016/scans/10-gre_field_mapping/resources/DICOM/1.3.12.2.1107.5.2.43.67078.30000019082010561171200000019-10-32-178zqip.dcm', '/media/harsh/My Passport/MRI_Datasets/sinhah-20220514_140054/MIND016/scans/10-gre_field_mapping/resources/DICOM/1.3.12.2.1107.5.2.43.67078.30000019082010561171200000019-10-39-1w59wpw.dcm', '/media/harsh/My Passport/MRI_Datasets/sinhah-20220514_140054/MIND016/scans/10-gre_field_mapping/resources/DICOM/1.3.12.2.1107.5.2.43.67078.30000019082010561171200000019-10-39-rxa73g.dcm', '/media/harsh/My Passport/MRI_Datasets/sinhah-20220514_140054/MIND016/scans/10-gre_field_mapping/resources/DICOM/1.3.12.2.1107.5.2.43.67078.30000019082010561171200000019-10-4-1c71xtm.dcm', '/media/harsh/My Passport/MRI_Datasets/sinhah-20220514_140054/MIND016/scans/10-gre_field_mapping/resources/DICOM/1.3.12.2.1107.5.2.43.67078.30000019082010561171200000019-10-4-ohru4n.dcm', '/media/harsh/My Passport/MRI_Datasets/sinhah-20220514_140054/MIND016/scans/10-gre_field_mapping/resources/DICOM/1.3.12.2.1107.5.2.43.67078.30000019082010561171200000019-10-40-12z9dye.dcm', '/media/harsh/My Passport/MRI_Datasets/sinhah-20220514_140054/MIND016/scans/10-gre_field_mapping/resources/DICOM/1.3.12.2.1107.5.2.43.67078.30000019082010561171200000019-10-40-taadbu.dcm', '/media/harsh/My Passport/MRI_Datasets/sinhah-20220514_140054/MIND016/scans/10-gre_field_mapping/resources/DICOM/1.3.12.2.1107.5.2.43.67078.30000019082010561171200000019-10-41-1yis4cc.dcm', '/media/harsh/My Passport/MRI_Datasets/sinhah-20220514_140054/MIND016/scans/10-gre_field_mapping/resources/DICOM/1.3.12.2.1107.5.2.43.67078.30000019082010561171200000019-10-41-yvqnba.dcm', '/media/harsh/My Passport/MRI_Datasets/sinhah-20220514_140054/MIND016/scans/10-gre_field_mapping/resources/DICOM/1.3.12.2.1107.5.2.43.67078.30000019082010561171200000019-10-42-192uyql.dcm', '/media/harsh/My Passport/MRI_Datasets/sinhah-20220514_140054/MIND016/scans/10-gre_field_mapping/resources/DICOM/1.3.12.2.1107.5.2.43.67078.30000019082010561171200000019-10-42-uthcae.dcm']}\n"
     ]
    }
   ],
   "source": [
    "sub0 = mydataset.subjects[0]\n",
    "sess0 = mydataset.sessions[sub0][0]\n",
    "print(mydataset[sub0, sess0])"
   ],
   "metadata": {
    "collapsed": false,
    "pycharm": {
     "name": "#%%\n"
    }
   }
  },
  {
   "cell_type": "code",
   "execution_count": 1,
   "outputs": [],
   "source": [
    "import pydicom\n",
    "dcm = pydicom.dcmread('/home/sinhah/datasets/sinhah-20220520_210659/0755JJ/scans/33-gre_field_mapping/resources/DICOM/1.3.12.2.1107.5.2.43.67078.30000020030311592662500000013-33-6-122um23.dcm')\n"
   ],
   "metadata": {
    "collapsed": false,
    "pycharm": {
     "name": "#%%\n"
    }
   }
  },
  {
   "cell_type": "code",
   "execution_count": 2,
   "outputs": [
    {
     "data": {
      "text/plain": "Dataset.file_meta -------------------------------\n(0002, 0000) File Meta Information Group Length  UL: 196\n(0002, 0001) File Meta Information Version       OB: b'\\x00\\x01'\n(0002, 0002) Media Storage SOP Class UID         UI: MR Image Storage\n(0002, 0003) Media Storage SOP Instance UID      UI: 1.3.12.2.1107.5.2.43.67078.2020030312433597012758801\n(0002, 0010) Transfer Syntax UID                 UI: Explicit VR Little Endian\n(0002, 0012) Implementation Class UID            UI: 1.2.40.0.13.1.1\n(0002, 0013) Implementation Version Name         SH: 'dcm4che-2.0'\n(0002, 0016) Source Application Entity Title     AE: 'MRC67078'\n-------------------------------------------------\n(0008, 0005) Specific Character Set              CS: 'ISO_IR 100'\n(0008, 0008) Image Type                          CS: ['ORIGINAL', 'PRIMARY', 'M', 'ND']\n(0008, 0012) Instance Creation Date              DA: '20200303'\n(0008, 0013) Instance Creation Time              TM: '124336.786000'\n(0008, 0016) SOP Class UID                       UI: MR Image Storage\n(0008, 0018) SOP Instance UID                    UI: 1.3.12.2.1107.5.2.43.67078.2020030312433597012758801\n(0008, 0020) Study Date                          DA: '20200303'\n(0008, 0021) Series Date                         DA: '20200303'\n(0008, 0022) Acquisition Date                    DA: '20200303'\n(0008, 0023) Content Date                        DA: '20200303'\n(0008, 0030) Study Time                          TM: '112147.385000'\n(0008, 0031) Series Time                         TM: '124336.481000'\n(0008, 0032) Acquisition Time                    TM: '124242.200000'\n(0008, 0033) Content Time                        TM: '124336.786000'\n(0008, 0050) Accession Number                    SH: ''\n(0008, 0060) Modality                            CS: 'MR'\n(0008, 0070) Manufacturer                        LO: 'SIEMENS'\n(0008, 0080) Institution Name                    LO: 'MRRC'\n(0008, 0081) Institution Address                 ST: 'Lothrop Street 200,Pittsburgh, Pennsylvania,Pittsburgh - Columbus,US,15213'\n(0008, 0090) Referring Physician's Name          PN: ''\n(0008, 1010) Station Name                        SH: 'MRC67078'\n(0008, 1030) Study Description                   LO: 'Brain^wpc-1604'\n(0008, 103e) Series Description                  LO: 'gre_field_mapping'\n(0008, 1040) Institutional Department Name       LO: 'MR Research Center'\n(0008, 1050) Performing Physician's Name         PN: ''\n(0008, 1070) Operators' Name                     PN: 'Lee'\n(0008, 1090) Manufacturer's Model Name           LO: 'Prisma_fit'\n(0008, 1140)  Referenced Image Sequence  3 item(s) ---- \n   (0008, 1150) Referenced SOP Class UID            UI: MR Image Storage\n   (0008, 1155) Referenced SOP Instance UID         UI: 1.3.12.2.1107.5.2.43.67078.2020030312083936526500014\n   ---------\n   (0008, 1150) Referenced SOP Class UID            UI: MR Image Storage\n   (0008, 1155) Referenced SOP Instance UID         UI: 1.3.12.2.1107.5.2.43.67078.2020030312083935626400006\n   ---------\n   (0008, 1150) Referenced SOP Class UID            UI: MR Image Storage\n   (0008, 1155) Referenced SOP Instance UID         UI: 1.3.12.2.1107.5.2.43.67078.2020030312083938026600026\n   ---------\n(0010, 0010) Patient's Name                      PN: '0755JJ'\n(0010, 0020) Patient ID                          LO: '0755JJ'\n(0010, 0030) Patient's Birth Date                DA: '19450115'\n(0010, 0040) Patient's Sex                       CS: 'F'\n(0010, 1010) Patient's Age                       AS: '075Y'\n(0010, 1020) Patient's Size                      DS: '1.5494031008333'\n(0010, 1030) Patient's Weight                    DS: '80.7394521306'\n(0012, 0064)  De-identification Method Code Sequence  1 item(s) ---- \n   (0008, 0100) Code Value                          SH: '3'\n   (0008, 0102) Coding Scheme Designator            SH: 'XNAT'\n   (0008, 0103) Coding Scheme Version               SH: '1.0'\n   (0008, 0104) Code Meaning                        LO: 'XNAT DicomEdit 6 Script'\n   ---------\n(0018, 0015) Body Part Examined                  CS: 'BRAIN'\n(0018, 0020) Scanning Sequence                   CS: 'GR'\n(0018, 0021) Sequence Variant                    CS: 'SP'\n(0018, 0022) Scan Options                        CS: ''\n(0018, 0023) MR Acquisition Type                 CS: '2D'\n(0018, 0024) Sequence Name                       SH: '*fm2d2r'\n(0018, 0025) Angio Flag                          CS: 'N'\n(0018, 0050) Slice Thickness                     DS: '3.0'\n(0018, 0080) Repetition Time                     DS: '400.0'\n(0018, 0081) Echo Time                           DS: '7.38'\n(0018, 0083) Number of Averages                  DS: '1.0'\n(0018, 0084) Imaging Frequency                   DS: '123.253697'\n(0018, 0085) Imaged Nucleus                      SH: '1H'\n(0018, 0086) Echo Number(s)                      IS: '2'\n(0018, 0087) Magnetic Field Strength             DS: '3.0'\n(0018, 0088) Spacing Between Slices              DS: '3.0'\n(0018, 0089) Number of Phase Encoding Steps      IS: '68'\n(0018, 0091) Echo Train Length                   IS: '0'\n(0018, 0093) Percent Sampling                    DS: '100.0'\n(0018, 0094) Percent Phase Field of View         DS: '100.0'\n(0018, 0095) Pixel Bandwidth                     DS: '605.0'\n(0018, 1000) Device Serial Number                LO: '67078'\n(0018, 1020) Software Versions                   LO: 'syngo MR E11'\n(0018, 1030) Protocol Name                       LO: 'gre_field_mapping'\n(0018, 1251) Transmit Coil Name                  SH: 'Body'\n(0018, 1310) Acquisition Matrix                  US: [68, 0, 0, 68]\n(0018, 1312) In-plane Phase Encoding Direction   CS: 'COL'\n(0018, 1314) Flip Angle                          DS: '45.0'\n(0018, 1315) Variable Flip Angle Flag            CS: 'N'\n(0018, 1316) SAR                                 DS: '0.09312760952864'\n(0018, 1318) dB/dt                               DS: '0.0'\n(0018, 5100) Patient Position                    CS: 'HFS'\n(0019, 0010) Private Creator                     LO: 'SIEMENS MR HEADER'\n(0019, 1008) [CSA Image Header Type]             CS: 'IMAGE NUM 4'\n(0019, 1009) [CSA Image Header Version ??]       LO: '1.0'\n(0019, 100b) [SliceMeasurementDuration]          DS: '53600.0'\n(0019, 100f) [GradientMode]                      SH: 'Fast'\n(0019, 1011) [FlowCompensation]                  SH: 'Yes'\n(0019, 1012) [TablePositionOrigin]               SL: [0, 0, -1261]\n(0019, 1013) [ImaAbsTablePosition]               SL: [0, 0, -1261]\n(0019, 1014) [ImaRelTablePosition]               IS: [0, 0, 0]\n(0019, 1015) [SlicePosition_PCS]                 FD: [-115.047597, -115.95644719, 8.59889313]\n(0019, 1016) [TimeAfterStart]                    DS: '0.4225'\n(0019, 1017) [SliceResolution]                   DS: '1.0'\n(0019, 1018) [RealDwellTime]                     IS: '12200'\n(0020, 000d) Study Instance UID                  UI: 1.3.12.2.1107.5.2.43.67078.30000020030311592662500000013\n(0020, 000e) Series Instance UID                 UI: 1.3.12.2.1107.5.2.43.67078.2020030312423949329258626.0.0.0\n(0020, 0010) Study ID                            SH: '1'\n(0020, 0011) Series Number                       IS: '33'\n(0020, 0012) Acquisition Number                  IS: '1'\n(0020, 0013) Instance Number                     IS: '6'\n(0020, 0032) Image Position (Patient)            DS: [-115.04759700362, -115.95644718971, 8.5988931339989]\n(0020, 0037) Image Orientation (Patient)         DS: [0.99813716157848, -0.0549336675163, 0.02654239720275, 0.06087388241582, 0.92575827162923, -0.3731835914797]\n(0020, 0052) Frame of Reference UID              UI: 1.3.12.2.1107.5.2.43.67078.1.20200303114845853.0.0.0\n(0020, 1040) Position Reference Indicator        LO: ''\n(0020, 1041) Slice Location                      DS: '-34.936949470782'\n(0028, 0002) Samples per Pixel                   US: 1\n(0028, 0004) Photometric Interpretation          CS: 'MONOCHROME2'\n(0028, 0010) Rows                                US: 68\n(0028, 0011) Columns                             US: 68\n(0028, 0030) Pixel Spacing                       DS: [3, 3]\n(0028, 0100) Bits Allocated                      US: 16\n(0028, 0101) Bits Stored                         US: 12\n(0028, 0102) High Bit                            US: 11\n(0028, 0103) Pixel Representation                US: 0\n(0028, 0106) Smallest Image Pixel Value          US: 0\n(0028, 0107) Largest Image Pixel Value           US: 1567\n(0028, 1050) Window Center                       DS: '689.0'\n(0028, 1051) Window Width                        DS: '1459.0'\n(0028, 1055) Window Center & Width Explanation   LO: 'Algo1'\n(0029, 0010) Private Creator                     LO: 'SIEMENS CSA HEADER'\n(0029, 0011) Private Creator                     LO: 'SIEMENS MEDCOM HEADER2'\n(0029, 1008) [CSA Image Header Type]             CS: 'IMAGE NUM 4'\n(0029, 1009) [CSA Image Header Version]          LO: '20200303'\n(0029, 1010) [CSA Image Header Info]             OB: Array of 11064 elements\n(0029, 1018) [CSA Series Header Type]            CS: 'MR'\n(0029, 1019) [CSA Series Header Version]         LO: '20200303'\n(0029, 1020) [CSA Series Header Info]            OB: Array of 159300 elements\n(0029, 1160) [Series Workflow Status]            LO: 'com'\n(0040, 0244) Performed Procedure Step Start Date DA: '20200303'\n(0040, 0245) Performed Procedure Step Start Time TM: '112147.490000'\n(0040, 0253) Performed Procedure Step ID         SH: 'MR20200303112147'\n(0040, 0254) Performed Procedure Step Descriptio LO: 'Brain^wpc-1604'\n(0040, 0280) Comments on the Performed Procedure ST: ''\n(0051, 0010) Private Creator                     LO: 'SIEMENS MR HEADER'\n(0051, 1008) [CSA Image Header Type]             CS: 'IMAGE NUM 4'\n(0051, 1009) [CSA Image Header Version ??]       LO: '1.0'\n(0051, 100a) [Unknown]                           LO: 'TA 53.60'\n(0051, 100b) [AcquisitionMatrixText]             LO: '68*68'\n(0051, 100c) [Unknown]                           LO: 'FoV 204*204'\n(0051, 100d) [Unknown]                           SH: 'SP F34.9'\n(0051, 100e) [Unknown]                           LO: 'Tra>Cor(-22.0)>Sag(0.2)'\n(0051, 100f) [CoilString]                        LO: 'HC1-7;NC1,2'\n(0051, 1012) [Unknown]                           SH: 'TP 0'\n(0051, 1013) [PositivePCSDirections]             SH: '+LPH'\n(0051, 1015) [Unknown]                           SH: 'D'\n(0051, 1016) [Unknown]                           LO: 'M/ND'\n(0051, 1017) [Unknown]                           SH: 'SL 3.0'\n(0051, 1019) [Unknown]                           LO: 'A1'\n(7fe0, 0010) Pixel Data                          OW: Array of 9248 elements"
     },
     "execution_count": 2,
     "metadata": {},
     "output_type": "execute_result"
    }
   ],
   "source": [],
   "metadata": {
    "collapsed": false,
    "pycharm": {
     "name": "#%%\n"
    }
   }
  },
  {
   "cell_type": "code",
   "execution_count": 36,
   "outputs": [
    {
     "name": "stdout",
     "output_type": "stream",
     "text": [
      "2 23\n",
      "1 15\n",
      "2 31\n",
      "1 30\n",
      "1 3\n",
      "1 36\n",
      "2 8\n",
      "1 38\n",
      "1 35\n",
      "1 2\n",
      "1 10\n",
      "1 14\n",
      "1 8\n",
      "1 20\n",
      "1 27\n",
      "1 19\n",
      "2 28\n",
      "2 15\n",
      "1 28\n",
      "1 33\n",
      "2 25\n",
      "1 34\n",
      "2 30\n",
      "2 4\n",
      "1 37\n",
      "2 20\n",
      "1 18\n",
      "1 21\n",
      "1 13\n",
      "2 38\n",
      "2 2\n",
      "2 27\n",
      "2 19\n",
      "2 6\n",
      "1 1\n",
      "2 18\n",
      "2 1\n",
      "2 35\n",
      "2 3\n",
      "1 26\n",
      "1 7\n",
      "2 21\n",
      "1 16\n",
      "2 11\n",
      "1 4\n",
      "1 11\n",
      "2 29\n",
      "2 17\n",
      "1 24\n",
      "2 14\n",
      "1 9\n",
      "2 7\n",
      "2 24\n",
      "1 40\n",
      "1 39\n",
      "2 37\n",
      "2 16\n",
      "2 40\n",
      "2 36\n",
      "1 31\n",
      "1 17\n",
      "1 22\n",
      "2 22\n",
      "1 23\n",
      "1 6\n",
      "2 5\n",
      "1 12\n",
      "2 10\n",
      "2 39\n",
      "2 33\n",
      "1 32\n",
      "2 34\n",
      "2 32\n",
      "2 9\n",
      "1 25\n",
      "1 5\n",
      "2 12\n",
      "2 26\n",
      "2 13\n",
      "1 29\n"
     ]
    },
    {
     "data": {
      "text/plain": "80"
     },
     "execution_count": 36,
     "metadata": {},
     "output_type": "execute_result"
    }
   ],
   "source": [
    "import os\n",
    "dir_ = '/home/sinhah/datasets/sinhah-20220520_210659/0755JJ/scans/33-gre_field_mapping/resources/DICOM/'\n",
    "study_dates = []\n",
    "for f in os.listdir(dir_):\n",
    "    dcm_path = os.path.join(dir_,f)\n",
    "    dcm_obj = pydicom.dcmread(dcm_path)\n",
    "    proto_date = dcm_obj[0x18, 0x86].value\n",
    "    instance_number = dcm_obj[0x20, 0x13].value\n",
    "    ref = dcm_obj[0x20, 0x52].value\n",
    "    print(proto_date, instance_number)\n",
    "    study_dates.append([proto_date, instance_number, ref])\n",
    "\n",
    "len(study_dates)"
   ],
   "metadata": {
    "collapsed": false,
    "pycharm": {
     "name": "#%%\n"
    }
   }
  },
  {
   "cell_type": "code",
   "execution_count": null,
   "outputs": [],
   "source": [],
   "metadata": {
    "collapsed": false,
    "pycharm": {
     "name": "#%%\n"
    }
   }
  },
  {
   "cell_type": "code",
   "execution_count": 37,
   "outputs": [
    {
     "data": {
      "text/plain": "[['1', '1', '1.3.12.2.1107.5.2.43.67078.1.20200303114845853.0.0.0'],\n ['1', '2', '1.3.12.2.1107.5.2.43.67078.1.20200303114845853.0.0.0'],\n ['1', '3', '1.3.12.2.1107.5.2.43.67078.1.20200303114845853.0.0.0'],\n ['1', '4', '1.3.12.2.1107.5.2.43.67078.1.20200303114845853.0.0.0'],\n ['1', '5', '1.3.12.2.1107.5.2.43.67078.1.20200303114845853.0.0.0'],\n ['1', '6', '1.3.12.2.1107.5.2.43.67078.1.20200303114845853.0.0.0'],\n ['1', '7', '1.3.12.2.1107.5.2.43.67078.1.20200303114845853.0.0.0'],\n ['1', '8', '1.3.12.2.1107.5.2.43.67078.1.20200303114845853.0.0.0'],\n ['1', '9', '1.3.12.2.1107.5.2.43.67078.1.20200303114845853.0.0.0'],\n ['1', '10', '1.3.12.2.1107.5.2.43.67078.1.20200303114845853.0.0.0'],\n ['1', '11', '1.3.12.2.1107.5.2.43.67078.1.20200303114845853.0.0.0'],\n ['1', '12', '1.3.12.2.1107.5.2.43.67078.1.20200303114845853.0.0.0'],\n ['1', '13', '1.3.12.2.1107.5.2.43.67078.1.20200303114845853.0.0.0'],\n ['1', '14', '1.3.12.2.1107.5.2.43.67078.1.20200303114845853.0.0.0'],\n ['1', '15', '1.3.12.2.1107.5.2.43.67078.1.20200303114845853.0.0.0'],\n ['1', '16', '1.3.12.2.1107.5.2.43.67078.1.20200303114845853.0.0.0'],\n ['1', '17', '1.3.12.2.1107.5.2.43.67078.1.20200303114845853.0.0.0'],\n ['1', '18', '1.3.12.2.1107.5.2.43.67078.1.20200303114845853.0.0.0'],\n ['1', '19', '1.3.12.2.1107.5.2.43.67078.1.20200303114845853.0.0.0'],\n ['1', '20', '1.3.12.2.1107.5.2.43.67078.1.20200303114845853.0.0.0'],\n ['1', '21', '1.3.12.2.1107.5.2.43.67078.1.20200303114845853.0.0.0'],\n ['1', '22', '1.3.12.2.1107.5.2.43.67078.1.20200303114845853.0.0.0'],\n ['1', '23', '1.3.12.2.1107.5.2.43.67078.1.20200303114845853.0.0.0'],\n ['1', '24', '1.3.12.2.1107.5.2.43.67078.1.20200303114845853.0.0.0'],\n ['1', '25', '1.3.12.2.1107.5.2.43.67078.1.20200303114845853.0.0.0'],\n ['1', '26', '1.3.12.2.1107.5.2.43.67078.1.20200303114845853.0.0.0'],\n ['1', '27', '1.3.12.2.1107.5.2.43.67078.1.20200303114845853.0.0.0'],\n ['1', '28', '1.3.12.2.1107.5.2.43.67078.1.20200303114845853.0.0.0'],\n ['1', '29', '1.3.12.2.1107.5.2.43.67078.1.20200303114845853.0.0.0'],\n ['1', '30', '1.3.12.2.1107.5.2.43.67078.1.20200303114845853.0.0.0'],\n ['1', '31', '1.3.12.2.1107.5.2.43.67078.1.20200303114845853.0.0.0'],\n ['1', '32', '1.3.12.2.1107.5.2.43.67078.1.20200303114845853.0.0.0'],\n ['1', '33', '1.3.12.2.1107.5.2.43.67078.1.20200303114845853.0.0.0'],\n ['1', '34', '1.3.12.2.1107.5.2.43.67078.1.20200303114845853.0.0.0'],\n ['1', '35', '1.3.12.2.1107.5.2.43.67078.1.20200303114845853.0.0.0'],\n ['1', '36', '1.3.12.2.1107.5.2.43.67078.1.20200303114845853.0.0.0'],\n ['1', '37', '1.3.12.2.1107.5.2.43.67078.1.20200303114845853.0.0.0'],\n ['1', '38', '1.3.12.2.1107.5.2.43.67078.1.20200303114845853.0.0.0'],\n ['1', '39', '1.3.12.2.1107.5.2.43.67078.1.20200303114845853.0.0.0'],\n ['1', '40', '1.3.12.2.1107.5.2.43.67078.1.20200303114845853.0.0.0'],\n ['2', '1', '1.3.12.2.1107.5.2.43.67078.1.20200303114845853.0.0.0'],\n ['2', '2', '1.3.12.2.1107.5.2.43.67078.1.20200303114845853.0.0.0'],\n ['2', '3', '1.3.12.2.1107.5.2.43.67078.1.20200303114845853.0.0.0'],\n ['2', '4', '1.3.12.2.1107.5.2.43.67078.1.20200303114845853.0.0.0'],\n ['2', '5', '1.3.12.2.1107.5.2.43.67078.1.20200303114845853.0.0.0'],\n ['2', '6', '1.3.12.2.1107.5.2.43.67078.1.20200303114845853.0.0.0'],\n ['2', '7', '1.3.12.2.1107.5.2.43.67078.1.20200303114845853.0.0.0'],\n ['2', '8', '1.3.12.2.1107.5.2.43.67078.1.20200303114845853.0.0.0'],\n ['2', '9', '1.3.12.2.1107.5.2.43.67078.1.20200303114845853.0.0.0'],\n ['2', '10', '1.3.12.2.1107.5.2.43.67078.1.20200303114845853.0.0.0'],\n ['2', '11', '1.3.12.2.1107.5.2.43.67078.1.20200303114845853.0.0.0'],\n ['2', '12', '1.3.12.2.1107.5.2.43.67078.1.20200303114845853.0.0.0'],\n ['2', '13', '1.3.12.2.1107.5.2.43.67078.1.20200303114845853.0.0.0'],\n ['2', '14', '1.3.12.2.1107.5.2.43.67078.1.20200303114845853.0.0.0'],\n ['2', '15', '1.3.12.2.1107.5.2.43.67078.1.20200303114845853.0.0.0'],\n ['2', '16', '1.3.12.2.1107.5.2.43.67078.1.20200303114845853.0.0.0'],\n ['2', '17', '1.3.12.2.1107.5.2.43.67078.1.20200303114845853.0.0.0'],\n ['2', '18', '1.3.12.2.1107.5.2.43.67078.1.20200303114845853.0.0.0'],\n ['2', '19', '1.3.12.2.1107.5.2.43.67078.1.20200303114845853.0.0.0'],\n ['2', '20', '1.3.12.2.1107.5.2.43.67078.1.20200303114845853.0.0.0'],\n ['2', '21', '1.3.12.2.1107.5.2.43.67078.1.20200303114845853.0.0.0'],\n ['2', '22', '1.3.12.2.1107.5.2.43.67078.1.20200303114845853.0.0.0'],\n ['2', '23', '1.3.12.2.1107.5.2.43.67078.1.20200303114845853.0.0.0'],\n ['2', '24', '1.3.12.2.1107.5.2.43.67078.1.20200303114845853.0.0.0'],\n ['2', '25', '1.3.12.2.1107.5.2.43.67078.1.20200303114845853.0.0.0'],\n ['2', '26', '1.3.12.2.1107.5.2.43.67078.1.20200303114845853.0.0.0'],\n ['2', '27', '1.3.12.2.1107.5.2.43.67078.1.20200303114845853.0.0.0'],\n ['2', '28', '1.3.12.2.1107.5.2.43.67078.1.20200303114845853.0.0.0'],\n ['2', '29', '1.3.12.2.1107.5.2.43.67078.1.20200303114845853.0.0.0'],\n ['2', '30', '1.3.12.2.1107.5.2.43.67078.1.20200303114845853.0.0.0'],\n ['2', '31', '1.3.12.2.1107.5.2.43.67078.1.20200303114845853.0.0.0'],\n ['2', '32', '1.3.12.2.1107.5.2.43.67078.1.20200303114845853.0.0.0'],\n ['2', '33', '1.3.12.2.1107.5.2.43.67078.1.20200303114845853.0.0.0'],\n ['2', '34', '1.3.12.2.1107.5.2.43.67078.1.20200303114845853.0.0.0'],\n ['2', '35', '1.3.12.2.1107.5.2.43.67078.1.20200303114845853.0.0.0'],\n ['2', '36', '1.3.12.2.1107.5.2.43.67078.1.20200303114845853.0.0.0'],\n ['2', '37', '1.3.12.2.1107.5.2.43.67078.1.20200303114845853.0.0.0'],\n ['2', '38', '1.3.12.2.1107.5.2.43.67078.1.20200303114845853.0.0.0'],\n ['2', '39', '1.3.12.2.1107.5.2.43.67078.1.20200303114845853.0.0.0'],\n ['2', '40', '1.3.12.2.1107.5.2.43.67078.1.20200303114845853.0.0.0']]"
     },
     "execution_count": 37,
     "metadata": {},
     "output_type": "execute_result"
    }
   ],
   "source": [
    "sorted(study_dates)\n"
   ],
   "metadata": {
    "collapsed": false,
    "pycharm": {
     "name": "#%%\n"
    }
   }
  },
  {
   "cell_type": "code",
   "execution_count": null,
   "outputs": [],
   "source": [],
   "metadata": {
    "collapsed": false,
    "pycharm": {
     "name": "#%%\n"
    }
   }
  }
 ],
 "metadata": {
  "kernelspec": {
   "display_name": "Python 3",
   "language": "python",
   "name": "python3"
  },
  "language_info": {
   "codemirror_mode": {
    "name": "ipython",
    "version": 2
   },
   "file_extension": ".py",
   "mimetype": "text/x-python",
   "name": "python",
   "nbconvert_exporter": "python",
   "pygments_lexer": "ipython2",
   "version": "2.7.6"
  }
 },
 "nbformat": 4,
 "nbformat_minor": 0
}